{
 "cells": [
  {
   "cell_type": "markdown",
   "metadata": {},
   "source": [
    "Now that we got the prompts loaded and the lls answering our questions, we dive into mixing the llms with our own content. This is useful because llms usually have a knowledge date cut off and also we don't want private information to leak into public llms. An important technique for this is called *RAG : Retrieval Augmented Generation*.\n",
    "\n",
    "Langchain has a set of documentloader to load & parse different formats."
   ]
  },
  {
   "cell_type": "code",
   "execution_count": 1,
   "metadata": {},
   "outputs": [
    {
     "name": "stdout",
     "output_type": "stream",
     "text": [
      "Note: you may need to restart the kernel to use updated packages.\n"
     ]
    }
   ],
   "source": [
    "%pip install -q langchain"
   ]
  },
  {
   "cell_type": "code",
   "execution_count": 2,
   "metadata": {},
   "outputs": [
    {
     "name": "stdout",
     "output_type": "stream",
     "text": [
      "Note: you may need to restart the kernel to use updated packages.\n"
     ]
    },
    {
     "data": {
      "text/plain": [
       "True"
      ]
     },
     "execution_count": 2,
     "metadata": {},
     "output_type": "execute_result"
    }
   ],
   "source": [
    "%pip install -q python-dotenv\n",
    "from dotenv import load_dotenv\n",
    "load_dotenv()"
   ]
  },
  {
   "cell_type": "markdown",
   "metadata": {},
   "source": [
    "A first loader could be to load simple text. We will load a markdown file as a text first to show the difference. With the generic text loader you it loads the file as is and does not try to interprete the content."
   ]
  },
  {
   "cell_type": "code",
   "execution_count": 3,
   "metadata": {},
   "outputs": [
    {
     "data": {
      "text/plain": [
       "[Document(page_content='# A history lesson on Devops\\n\\n## Devopsdays\\n\\nDevopsdays is a worldwide series of technical conferences covering topics of software development, IT infrastructure operations, and the intersection between them. Each event is run by volunteers from the local area.\\n\\nMost devopsdays events feature a combination of curated talks (see open Calls for Proposals) and self organized open space content. Topics often include automation, testing, security, and organizational culture.\\n\\n### History\\nThe first devopsdays was held in Ghent, Belgium in 2009. Since then, devopsdays events have multiplied, and if there isn’t one in your city, check out the information about organizing one yourself!\\n\\n### About the organization\\nThe devopsdays global core team guides local organizers in hosting their own devopsdays events worldwide. Active core organizers onboard and guide events, answer questions, and maintain the website. Advisory core organizers are less involved day-to-day but weigh in on important matters and assist as needed. Emeritus core organizers are no longer involved in the core team; we thank them for their past efforts.\\n\\n\\n## Devops Handbook authors\\nThe Devops Handbook was written by the following authors: Gene Kim, Jez Humble , John Willis , Patrick Debois and John Allspaw.\\n\\nGene Kim is a multiple award-winning entrepreneur, the founder and former CTO of Tripwire and a researcher. He is passionate about IT operations, security and compliance, and how IT organizations successfully transform from \"good to great.\"\\x9d He lives in Portland, Oregon.\\n\\nJez Humble is an award-winning author and researcher on software who has spent his career tinkering with code, infrastructure, and product development in organizations of varying sizes across three continents. He works at 18F, teaches at UC Berkeley, and is co-founder of DevOps Research and Assessment LLC.\\n\\nPatrick Debois is an independent IT-consultant who is bridging the gap between projects and operations by using Agile techniques both in development, project management and system administration.\\n\\nJohn Willis has worked in the IT management industry for more than 30 years. He has authored six IBM Redbooks for IBM on enterprise systems management and was the founder and chief architect at Chain Bridge Systems. He lives in Atlanta, Georgia.\\n\\n## DevSecOps\\nAs a reaction of Devops, Security got its own name and movement.\\nNotably it talks about Shifting Security left.', metadata={'source': './data/history.md'})]"
      ]
     },
     "execution_count": 3,
     "metadata": {},
     "output_type": "execute_result"
    }
   ],
   "source": [
    "# Load a doc as text file\n",
    "from langchain.document_loaders import TextLoader\n",
    "\n",
    "loader = TextLoader(\"./data/history.md\")\n",
    "loader.load()"
   ]
  },
  {
   "cell_type": "markdown",
   "metadata": {},
   "source": [
    "We can now do the same with a Markdownloader. For that we install a few extra packages."
   ]
  },
  {
   "cell_type": "code",
   "execution_count": 4,
   "metadata": {},
   "outputs": [],
   "source": [
    "%pip install -q unstructured markdown"
   ]
  },
  {
   "cell_type": "markdown",
   "metadata": {},
   "source": [
    "The difference is that it 'understood' the file and stripped it from any Markdown specific elements."
   ]
  },
  {
   "cell_type": "code",
   "execution_count": null,
   "metadata": {},
   "outputs": [
    {
     "data": {
      "text/plain": [
       "[Document(page_content='A history lesson on Devops\\n\\nDevopsdays\\n\\nDevopsdays is a worldwide series of technical conferences covering topics of software development, IT infrastructure operations, and the intersection between them. Each event is run by volunteers from the local area.\\n\\nMost devopsdays events feature a combination of curated talks (see open Calls for Proposals) and self organized open space content. Topics often include automation, testing, security, and organizational culture.\\n\\nHistory\\n\\nThe first devopsdays was held in Ghent, Belgium in 2009. Since then, devopsdays events have multiplied, and if there isn’t one in your city, check out the information about organizing one yourself!\\n\\nAbout the organization\\n\\nThe devopsdays global core team guides local organizers in hosting their own devopsdays events worldwide. Active core organizers onboard and guide events, answer questions, and maintain the website. Advisory core organizers are less involved day-to-day but weigh in on important matters and assist as needed. Emeritus core organizers are no longer involved in the core team; we thank them for their past efforts.\\n\\nDevops Handbook authors\\n\\nThe Devops Handbook was written by the following authors: Gene Kim, Jez Humble , John Willis , Patrick Debois and John Allspaw.\\n\\nGene Kim is a multiple award-winning entrepreneur, the founder and former CTO of Tripwire and a researcher. He is passionate about IT operations, security and compliance, and how IT organizations successfully transform from \"good to great.\"\\x9d He lives in Portland, Oregon.\\n\\nJez Humble is an award-winning author and researcher on software who has spent his career tinkering with code, infrastructure, and product development in organizations of varying sizes across three continents. He works at 18F, teaches at UC Berkeley, and is co-founder of DevOps Research and Assessment LLC.\\n\\nPatrick Debois is an independent IT-consultant who is bridging the gap between projects and operations by using Agile techniques both in development, project management and system administration.\\n\\nJohn Willis has worked in the IT management industry for more than 30 years. He has authored six IBM Redbooks for IBM on enterprise systems management and was the founder and chief architect at Chain Bridge Systems. He lives in Atlanta, Georgia.\\n\\nDevSecOps\\n\\nAs a reaction of Devops, Security got its own name and movement.\\nNotably it talks about Shifting Security left.', metadata={'source': './data/history.md'})]"
      ]
     },
     "execution_count": 12,
     "metadata": {},
     "output_type": "execute_result"
    }
   ],
   "source": [
    "from langchain.document_loaders import UnstructuredMarkdownLoader\n",
    "loader = UnstructuredMarkdownLoader(\"./data/history.md\")\n",
    "loader.load()"
   ]
  },
  {
   "cell_type": "markdown",
   "metadata": {},
   "source": [
    "We can similarly load whole directories"
   ]
  },
  {
   "cell_type": "code",
   "execution_count": null,
   "metadata": {},
   "outputs": [
    {
     "name": "stderr",
     "output_type": "stream",
     "text": [
      "100%|██████████| 1/1 [00:00<00:00, 111.56it/s]\n"
     ]
    },
    {
     "data": {
      "text/plain": [
       "[Document(page_content='A history lesson on Devops\\n\\nDevopsdays\\n\\nDevopsdays is a worldwide series of technical conferences covering topics of software development, IT infrastructure operations, and the intersection between them. Each event is run by volunteers from the local area.\\n\\nMost devopsdays events feature a combination of curated talks (see open Calls for Proposals) and self organized open space content. Topics often include automation, testing, security, and organizational culture.\\n\\nHistory\\n\\nThe first devopsdays was held in Ghent, Belgium in 2009. Since then, devopsdays events have multiplied, and if there isn’t one in your city, check out the information about organizing one yourself!\\n\\nAbout the organization\\n\\nThe devopsdays global core team guides local organizers in hosting their own devopsdays events worldwide. Active core organizers onboard and guide events, answer questions, and maintain the website. Advisory core organizers are less involved day-to-day but weigh in on important matters and assist as needed. Emeritus core organizers are no longer involved in the core team; we thank them for their past efforts.\\n\\nDevops Handbook authors\\n\\nThe Devops Handbook was written by the following authors: Gene Kim, Jez Humble , John Willis , Patrick Debois and John Allspaw.\\n\\nGene Kim is a multiple award-winning entrepreneur, the founder and former CTO of Tripwire and a researcher. He is passionate about IT operations, security and compliance, and how IT organizations successfully transform from \"good to great.\"\\x9d He lives in Portland, Oregon.\\n\\nJez Humble is an award-winning author and researcher on software who has spent his career tinkering with code, infrastructure, and product development in organizations of varying sizes across three continents. He works at 18F, teaches at UC Berkeley, and is co-founder of DevOps Research and Assessment LLC.\\n\\nPatrick Debois is an independent IT-consultant who is bridging the gap between projects and operations by using Agile techniques both in development, project management and system administration.\\n\\nJohn Willis has worked in the IT management industry for more than 30 years. He has authored six IBM Redbooks for IBM on enterprise systems management and was the founder and chief architect at Chain Bridge Systems. He lives in Atlanta, Georgia.\\n\\nDevSecOps\\n\\nAs a reaction of Devops, Security got its own name and movement.\\nNotably it talks about Shifting Security left.', metadata={'source': 'data/history.md'})]"
      ]
     },
     "execution_count": 15,
     "metadata": {},
     "output_type": "execute_result"
    }
   ],
   "source": [
    "from langchain.document_loaders import DirectoryLoader\n",
    "\n",
    "loader = DirectoryLoader(\n",
    "    \"./\",\n",
    "    glob=\"data/**/*.md\",\n",
    "    use_multithreading=True,\n",
    "    max_concurrency=4,\n",
    "    show_progress=True,\n",
    ")\n",
    "loader.load()\n"
   ]
  },
  {
   "cell_type": "markdown",
   "metadata": {},
   "source": [
    "But it does not stop with files , we can load webfiles , and many many other documents from various sources. From Jira tickets to Datadog Logfiles etc.."
   ]
  },
  {
   "cell_type": "code",
   "execution_count": null,
   "metadata": {},
   "outputs": [
    {
     "name": "stdout",
     "output_type": "stream",
     "text": [
      "[Document(page_content='\\n\\n\\n\\n\\n  Personal website of Patrick Debois – JEDI - Just Enough Documented Information Blog\\n\\n\\n\\n\\n\\n\\n\\n\\n\\n\\n\\n\\n\\n\\n\\n\\n\\n\\n\\n\\n\\n\\n\\n\\n\\n\\n\\n\\n            [Home]\\n            [Blog]\\n            [Contact]\\n         -\\n            [Talks]\\n            [Bio]\\n            [Customers]\\n          \\n\\n\\n\\n\\n\\n\\n\\n\\n\\nSubscribe via email\\n\\n\\n\\n\\n\\nPersonal website of Patrick Debois\\n\\n\\nA warm welcome to you !\\n\\nDuring 15 years of consultancy, I’ve assumed different roles within large enterprises ranging from developer, network specialist, system administrator, tester and project manager.  And because I’ve lived and experienced each role, I can talk to both manager, developer and IT people. Each in their own language.\\n\\nThis allows me to break past silo-based organizational boundaries resulting in smoother project delivery.\\n\\nI currently specialize in applying Agile techniques in infrastructure integration projects or what is sometimes called devops; agile techniques used in development have an impact on the way operations organizes it work. Similar, operations and sysadmins are becoming programmers because of the virtualization and automation trend where everything is managed through an API.\\nThe only way to respond to the increasing business demands, is to improve the flow from projects to operations. It is essential to keep up with the competition. So when was the last time you deployed to production without fear for a catastrophe?\\n\\n\\n\\n\\n\\n\\n\\nTheme: uses Github Markdown\\n          CSS\\n\\n\\n', metadata={'source': 'https://jedi.be', 'title': '\\n  Personal website of Patrick Debois – JEDI - Just Enough Documented Information Blog\\n', 'language': 'No language found.'})]\n"
     ]
    }
   ],
   "source": [
    "# https://python.langchain.com/docs/integrations/document_loaders/web_base\n",
    "from langchain.document_loaders import WebBaseLoader\n",
    "loader = WebBaseLoader(\"https://jedi.be\")\n",
    "\n",
    "data = loader.load()\n",
    "print(data)\n"
   ]
  }
 ],
 "metadata": {
  "kernelspec": {
   "display_name": "london-devops-VW7lFx7f-py3.11",
   "language": "python",
   "name": "python3"
  },
  "language_info": {
   "codemirror_mode": {
    "name": "ipython",
    "version": 3
   },
   "file_extension": ".py",
   "mimetype": "text/x-python",
   "name": "python",
   "nbconvert_exporter": "python",
   "pygments_lexer": "ipython3",
   "version": "3.11.7"
  },
  "orig_nbformat": 4
 },
 "nbformat": 4,
 "nbformat_minor": 2
}
