{
 "cells": [
  {
   "cell_type": "markdown",
   "metadata": {},
   "source": [
    "To get you even more excited as a developer: The documents don't always have to be business information, we can use these with our own openAPI specs for example. In Langchain there is a standard *APIChain* which allows us to link that kind of documentation with questions we ask the llm. \n",
    "\n",
    "Example from langchain:\n",
    "- https://python.langchain.com/docs/use_cases/apis"
   ]
  },
  {
   "cell_type": "code",
   "execution_count": 1,
   "metadata": {},
   "outputs": [
    {
     "name": "stdout",
     "output_type": "stream",
     "text": [
      "Note: you may need to restart the kernel to use updated packages.\n"
     ]
    }
   ],
   "source": [
    "%pip install -q langchain langchain-openai"
   ]
  },
  {
   "cell_type": "code",
   "execution_count": 2,
   "metadata": {},
   "outputs": [
    {
     "name": "stdout",
     "output_type": "stream",
     "text": [
      "Note: you may need to restart the kernel to use updated packages.\n"
     ]
    },
    {
     "data": {
      "text/plain": [
       "True"
      ]
     },
     "execution_count": 2,
     "metadata": {},
     "output_type": "execute_result"
    }
   ],
   "source": [
    "%pip install -q python-dotenv\n",
    "from dotenv import load_dotenv\n",
    "load_dotenv()"
   ]
  },
  {
   "cell_type": "markdown",
   "metadata": {},
   "source": [
    "In this example we ask the LLM to find the weather in London. We already know that the LLMs have a knowledge cut off so it can't do this. In this case we'd be asking the LLM to look for related parts in the documentation, form an api query and then provide that as extra context.\n",
    "\n",
    "Watch the magic under the hood... No coding , just from documentation the LLM was able to construct the right calls to the API of the weather service."
   ]
  },
  {
   "cell_type": "code",
   "execution_count": 3,
   "metadata": {},
   "outputs": [
    {
     "name": "stderr",
     "output_type": "stream",
     "text": [
      "/Users/patrickdebois/Library/Caches/pypoetry/virtualenvs/learning-llms-and-genai-for-dev-sec-ops--fI-1qgv-py3.11/lib/python3.11/site-packages/langchain_core/_api/deprecation.py:117: LangChainDeprecationWarning: The function `run` was deprecated in LangChain 0.1.0 and will be removed in 0.2.0. Use invoke instead.\n",
      "  warn_deprecated(\n"
     ]
    },
    {
     "name": "stdout",
     "output_type": "stream",
     "text": [
      "\n",
      "=============\n",
      "[llm][start] - prompts: You are given the below API Documentation:\n",
      "BASE URL: https://api.open-meteo.com/\n",
      "\n",
      "API Documentation\n",
      "The API endpoint /v1/forecast accepts a geographical coordinate, a list of weather variables and responds with a JSON hourly weather forecast for 7 days. Time always starts at 0:00 today and contains 168 hours. All URL parameters are listed below:\n",
      "\n",
      "Parameter\tFormat\tRequired\tDefault\tDescription\n",
      "latitude, longitude\tFloating point\tYes\t\tGeographical WGS84 coordinate of the location\n",
      "hourly\tString array\tNo\t\tA list of weather variables which should be returned. Values can be comma separated, or multiple &hourly= parameter in the URL can be used.\n",
      "daily\tString array\tNo\t\tA list of daily weather variable aggregations which should be returned. Values can be comma separated, or multiple &daily= parameter in the URL can be used. If daily weather variables are specified, parameter timezone is required.\n",
      "current_weather\tBool\tNo\tfalse\tInclude current weather conditions in the JSON output.\n",
      "temperature_unit\tString\tNo\tcelsius\tIf fahrenheit is set, all temperature values are converted to Fahrenheit.\n",
      "windspeed_unit\tString\tNo\tkmh\tOther wind speed speed units: ms, mph and kn\n",
      "precipitation_unit\tString\tNo\tmm\tOther precipitation amount units: inch\n",
      "timeformat\tString\tNo\tiso8601\tIf format unixtime is selected, all time values are returned in UNIX epoch time in seconds. Please note that all timestamp are in GMT+0! For daily values with unix timestamps, please apply utc_offset_seconds again to get the correct date.\n",
      "timezone\tString\tNo\tGMT\tIf timezone is set, all timestamps are returned as local-time and data is returned starting at 00:00 local-time. Any time zone name from the time zone database is supported. If auto is set as a time zone, the coordinates will be automatically resolved to the local time zone.\n",
      "past_days\tInteger (0-2)\tNo\t0\tIf past_days is set, yesterday or the day before yesterday data are also returned.\n",
      "start_date\n",
      "end_date\tString (yyyy-mm-dd)\tNo\t\tThe time interval to get weather data. A day must be specified as an ISO8601 date (e.g. 2022-06-30).\n",
      "models\tString array\tNo\tauto\tManually select one or more weather models. Per default, the best suitable weather models will be combined.\n",
      "\n",
      "Hourly Parameter Definition\n",
      "The parameter &hourly= accepts the following values. Most weather variables are given as an instantaneous value for the indicated hour. Some variables like precipitation are calculated from the preceding hour as an average or sum.\n",
      "\n",
      "Variable\tValid time\tUnit\tDescription\n",
      "temperature_2m\tInstant\t°C (°F)\tAir temperature at 2 meters above ground\n",
      "snowfall\tPreceding hour sum\tcm (inch)\tSnowfall amount of the preceding hour in centimeters. For the water equivalent in millimeter, divide by 7. E.g. 7 cm snow = 10 mm precipitation water equivalent\n",
      "rain\tPreceding hour sum\tmm (inch)\tRain from large scale weather systems of the preceding hour in millimeter\n",
      "showers\tPreceding hour sum\tmm (inch)\tShowers from convective precipitation in millimeters from the preceding hour\n",
      "weathercode\tInstant\tWMO code\tWeather condition as a numeric code. Follow WMO weather interpretation codes. See table below for details.\n",
      "snow_depth\tInstant\tmeters\tSnow depth on the ground\n",
      "freezinglevel_height\tInstant\tmeters\tAltitude above sea level of the 0°C level\n",
      "visibility\tInstant\tmeters\tViewing distance in meters. Influenced by low clouds, humidity and aerosols. Maximum visibility is approximately 24 km.\n",
      "Using this documentation, generate the full API url to call for answering the user question.\n",
      "You should build the API url in order to get a response that is as short as possible, while still getting the necessary information to answer the question. Pay attention to deliberately exclude any unnecessary pieces of data in the API call.\n",
      "\n",
      "Question:What is the weather like right now in London in degrees Celcius?\n",
      "API url:\n",
      "\n",
      "=============\n",
      "[llm][end] - generation  https://api.open-meteo.com/v1/forecast?latitude=51.5074&longitude=0.1278&hourly=temperature_2m&current_weather=true&temperature_unit=celsius&timezone=auto\n",
      "\n",
      "=============\n",
      "[llm][start] - prompts: You are given the below API Documentation:\n",
      "BASE URL: https://api.open-meteo.com/\n",
      "\n",
      "API Documentation\n",
      "The API endpoint /v1/forecast accepts a geographical coordinate, a list of weather variables and responds with a JSON hourly weather forecast for 7 days. Time always starts at 0:00 today and contains 168 hours. All URL parameters are listed below:\n",
      "\n",
      "Parameter\tFormat\tRequired\tDefault\tDescription\n",
      "latitude, longitude\tFloating point\tYes\t\tGeographical WGS84 coordinate of the location\n",
      "hourly\tString array\tNo\t\tA list of weather variables which should be returned. Values can be comma separated, or multiple &hourly= parameter in the URL can be used.\n",
      "daily\tString array\tNo\t\tA list of daily weather variable aggregations which should be returned. Values can be comma separated, or multiple &daily= parameter in the URL can be used. If daily weather variables are specified, parameter timezone is required.\n",
      "current_weather\tBool\tNo\tfalse\tInclude current weather conditions in the JSON output.\n",
      "temperature_unit\tString\tNo\tcelsius\tIf fahrenheit is set, all temperature values are converted to Fahrenheit.\n",
      "windspeed_unit\tString\tNo\tkmh\tOther wind speed speed units: ms, mph and kn\n",
      "precipitation_unit\tString\tNo\tmm\tOther precipitation amount units: inch\n",
      "timeformat\tString\tNo\tiso8601\tIf format unixtime is selected, all time values are returned in UNIX epoch time in seconds. Please note that all timestamp are in GMT+0! For daily values with unix timestamps, please apply utc_offset_seconds again to get the correct date.\n",
      "timezone\tString\tNo\tGMT\tIf timezone is set, all timestamps are returned as local-time and data is returned starting at 00:00 local-time. Any time zone name from the time zone database is supported. If auto is set as a time zone, the coordinates will be automatically resolved to the local time zone.\n",
      "past_days\tInteger (0-2)\tNo\t0\tIf past_days is set, yesterday or the day before yesterday data are also returned.\n",
      "start_date\n",
      "end_date\tString (yyyy-mm-dd)\tNo\t\tThe time interval to get weather data. A day must be specified as an ISO8601 date (e.g. 2022-06-30).\n",
      "models\tString array\tNo\tauto\tManually select one or more weather models. Per default, the best suitable weather models will be combined.\n",
      "\n",
      "Hourly Parameter Definition\n",
      "The parameter &hourly= accepts the following values. Most weather variables are given as an instantaneous value for the indicated hour. Some variables like precipitation are calculated from the preceding hour as an average or sum.\n",
      "\n",
      "Variable\tValid time\tUnit\tDescription\n",
      "temperature_2m\tInstant\t°C (°F)\tAir temperature at 2 meters above ground\n",
      "snowfall\tPreceding hour sum\tcm (inch)\tSnowfall amount of the preceding hour in centimeters. For the water equivalent in millimeter, divide by 7. E.g. 7 cm snow = 10 mm precipitation water equivalent\n",
      "rain\tPreceding hour sum\tmm (inch)\tRain from large scale weather systems of the preceding hour in millimeter\n",
      "showers\tPreceding hour sum\tmm (inch)\tShowers from convective precipitation in millimeters from the preceding hour\n",
      "weathercode\tInstant\tWMO code\tWeather condition as a numeric code. Follow WMO weather interpretation codes. See table below for details.\n",
      "snow_depth\tInstant\tmeters\tSnow depth on the ground\n",
      "freezinglevel_height\tInstant\tmeters\tAltitude above sea level of the 0°C level\n",
      "visibility\tInstant\tmeters\tViewing distance in meters. Influenced by low clouds, humidity and aerosols. Maximum visibility is approximately 24 km.\n",
      "Using this documentation, generate the full API url to call for answering the user question.\n",
      "You should build the API url in order to get a response that is as short as possible, while still getting the necessary information to answer the question. Pay attention to deliberately exclude any unnecessary pieces of data in the API call.\n",
      "\n",
      "Question:What is the weather like right now in London in degrees Celcius?\n",
      "API url: https://api.open-meteo.com/v1/forecast?latitude=51.5074&longitude=0.1278&hourly=temperature_2m&current_weather=true&temperature_unit=celsius&timezone=auto\n",
      "\n",
      "Here is the response from the API:\n",
      "\n",
      "{\"latitude\":51.5,\"longitude\":0.119999886,\"generationtime_ms\":0.10001659393310547,\"utc_offset_seconds\":0,\"timezone\":\"Europe/London\",\"timezone_abbreviation\":\"GMT\",\"elevation\":3.0,\"current_weather_units\":{\"time\":\"iso8601\",\"interval\":\"seconds\",\"temperature\":\"°C\",\"windspeed\":\"km/h\",\"winddirection\":\"°\",\"is_day\":\"\",\"weathercode\":\"wmo code\"},\"current_weather\":{\"time\":\"2024-02-13T10:00\",\"interval\":900,\"temperature\":7.9,\"windspeed\":10.6,\"winddirection\":198,\"is_day\":1,\"weathercode\":3},\"hourly_units\":{\"time\":\"iso8601\",\"temperature_2m\":\"°C\"},\"hourly\":{\"time\":[\"2024-02-13T00:00\",\"2024-02-13T01:00\",\"2024-02-13T02:00\",\"2024-02-13T03:00\",\"2024-02-13T04:00\",\"2024-02-13T05:00\",\"2024-02-13T06:00\",\"2024-02-13T07:00\",\"2024-02-13T08:00\",\"2024-02-13T09:00\",\"2024-02-13T10:00\",\"2024-02-13T11:00\",\"2024-02-13T12:00\",\"2024-02-13T13:00\",\"2024-02-13T14:00\",\"2024-02-13T15:00\",\"2024-02-13T16:00\",\"2024-02-13T17:00\",\"2024-02-13T18:00\",\"2024-02-13T19:00\",\"2024-02-13T20:00\",\"2024-02-13T21:00\",\"2024-02-13T22:00\",\"2024-02-13T23:00\",\"2024-02-14T00:00\",\"2024-02-14T01:00\",\"2024-02-14T02:00\",\"2024-02-14T03:00\",\"2024-02-14T04:00\",\"2024-02-14T05:00\",\"2024-02-14T06:00\",\"2024-02-14T07:00\",\"2024-02-14T08:00\",\"2024-02-14T09:00\",\"2024-02-14T10:00\",\"2024-02-14T11:00\",\"2024-02-14T12:00\",\"2024-02-14T13:00\",\"2024-02-14T14:00\",\"2024-02-14T15:00\",\"2024-02-14T16:00\",\"2024-02-14T17:00\",\"2024-02-14T18:00\",\"2024-02-14T19:00\",\"2024-02-14T20:00\",\"2024-02-14T21:00\",\"2024-02-14T22:00\",\"2024-02-14T23:00\",\"2024-02-15T00:00\",\"2024-02-15T01:00\",\"2024-02-15T02:00\",\"2024-02-15T03:00\",\"2024-02-15T04:00\",\"2024-02-15T05:00\",\"2024-02-15T06:00\",\"2024-02-15T07:00\",\"2024-02-15T08:00\",\"2024-02-15T09:00\",\"2024-02-15T10:00\",\"2024-02-15T11:00\",\"2024-02-15T12:00\",\"2024-02-15T13:00\",\"2024-02-15T14:00\",\"2024-02-15T15:00\",\"2024-02-15T16:00\",\"2024-02-15T17:00\",\"2024-02-15T18:00\",\"2024-02-15T19:00\",\"2024-02-15T20:00\",\"2024-02-15T21:00\",\"2024-02-15T22:00\",\"2024-02-15T23:00\",\"2024-02-16T00:00\",\"2024-02-16T01:00\",\"2024-02-16T02:00\",\"2024-02-16T03:00\",\"2024-02-16T04:00\",\"2024-02-16T05:00\",\"2024-02-16T06:00\",\"2024-02-16T07:00\",\"2024-02-16T08:00\",\"2024-02-16T09:00\",\"2024-02-16T10:00\",\"2024-02-16T11:00\",\"2024-02-16T12:00\",\"2024-02-16T13:00\",\"2024-02-16T14:00\",\"2024-02-16T15:00\",\"2024-02-16T16:00\",\"2024-02-16T17:00\",\"2024-02-16T18:00\",\"2024-02-16T19:00\",\"2024-02-16T20:00\",\"2024-02-16T21:00\",\"2024-02-16T22:00\",\"2024-02-16T23:00\",\"2024-02-17T00:00\",\"2024-02-17T01:00\",\"2024-02-17T02:00\",\"2024-02-17T03:00\",\"2024-02-17T04:00\",\"2024-02-17T05:00\",\"2024-02-17T06:00\",\"2024-02-17T07:00\",\"2024-02-17T08:00\",\"2024-02-17T09:00\",\"2024-02-17T10:00\",\"2024-02-17T11:00\",\"2024-02-17T12:00\",\"2024-02-17T13:00\",\"2024-02-17T14:00\",\"2024-02-17T15:00\",\"2024-02-17T16:00\",\"2024-02-17T17:00\",\"2024-02-17T18:00\",\"2024-02-17T19:00\",\"2024-02-17T20:00\",\"2024-02-17T21:00\",\"2024-02-17T22:00\",\"2024-02-17T23:00\",\"2024-02-18T00:00\",\"2024-02-18T01:00\",\"2024-02-18T02:00\",\"2024-02-18T03:00\",\"2024-02-18T04:00\",\"2024-02-18T05:00\",\"2024-02-18T06:00\",\"2024-02-18T07:00\",\"2024-02-18T08:00\",\"2024-02-18T09:00\",\"2024-02-18T10:00\",\"2024-02-18T11:00\",\"2024-02-18T12:00\",\"2024-02-18T13:00\",\"2024-02-18T14:00\",\"2024-02-18T15:00\",\"2024-02-18T16:00\",\"2024-02-18T17:00\",\"2024-02-18T18:00\",\"2024-02-18T19:00\",\"2024-02-18T20:00\",\"2024-02-18T21:00\",\"2024-02-18T22:00\",\"2024-02-18T23:00\",\"2024-02-19T00:00\",\"2024-02-19T01:00\",\"2024-02-19T02:00\",\"2024-02-19T03:00\",\"2024-02-19T04:00\",\"2024-02-19T05:00\",\"2024-02-19T06:00\",\"2024-02-19T07:00\",\"2024-02-19T08:00\",\"2024-02-19T09:00\",\"2024-02-19T10:00\",\"2024-02-19T11:00\",\"2024-02-19T12:00\",\"2024-02-19T13:00\",\"2024-02-19T14:00\",\"2024-02-19T15:00\",\"2024-02-19T16:00\",\"2024-02-19T17:00\",\"2024-02-19T18:00\",\"2024-02-19T19:00\",\"2024-02-19T20:00\",\"2024-02-19T21:00\",\"2024-02-19T22:00\",\"2024-02-19T23:00\"],\"temperature_2m\":[5.5,5.3,5.2,5.1,5.1,5.1,5.4,5.2,5.5,6.6,7.9,9.2,9.6,9.5,9.7,9.7,9.3,9.3,9.8,10.3,10.8,11.2,11.6,11.5,11.5,11.6,11.7,12.0,11.9,12.2,12.2,12.2,12.3,12.5,12.7,12.8,13.3,13.3,13.2,13.0,12.9,12.7,12.7,12.6,12.2,12.2,12.1,12.1,12.2,12.2,12.2,12.3,12.7,12.8,12.7,12.9,12.8,13.2,13.8,14.7,15.7,16.4,16.0,15.2,14.4,13.6,12.8,12.6,12.7,12.9,13.0,12.9,12.9,12.7,12.6,12.3,11.9,11.3,10.9,10.2,9.9,10.0,10.7,11.9,13.0,13.6,14.0,13.9,13.3,12.2,11.2,10.4,9.6,9.0,8.7,8.5,8.5,8.6,8.9,9.1,9.2,9.1,9.2,9.4,9.7,10.3,11.6,13.2,14.2,14.4,14.1,13.6,13.0,12.2,11.6,11.4,11.5,11.6,11.6,11.6,11.6,11.6,11.5,11.5,11.5,11.6,11.6,12.5,12.5,12.6,12.8,13.1,13.4,13.7,14.1,14.1,13.8,13.3,12.7,12.2,11.6,11.1,10.6,10.2,9.6,8.7,7.7,6.8,6.1,5.4,5.1,5.2,5.5,6.1,7.0,8.0,8.8,9.3,9.6,9.7,9.6,9.4,9.2,9.0,8.8,8.6,8.4,8.3]}}\n",
      "\n",
      "Summarize this response to answer the original question.\n",
      "\n",
      "Summary:\n",
      "\n",
      "=============\n",
      "[llm][end] - generation  The current temperature in London is 7.9 degrees Celsius. This information was obtained from the API url: https://api.open-meteo.com/v1/forecast?latitude=51.5074&longitude=0.1278&hourly=temperature_2m&current_weather=true&temperature_unit=celsius&timezone=auto.\n"
     ]
    },
    {
     "data": {
      "text/plain": [
       "' The current temperature in London is 7.9 degrees Celsius. This information was obtained from the API url: https://api.open-meteo.com/v1/forecast?latitude=51.5074&longitude=0.1278&hourly=temperature_2m&current_weather=true&temperature_unit=celsius&timezone=auto.'"
      ]
     },
     "execution_count": 3,
     "metadata": {},
     "output_type": "execute_result"
    }
   ],
   "source": [
    "from _lessonshelper.pretty_print_callback_handler import PrettyPrintCallbackHandler\n",
    "pretty_callback = PrettyPrintCallbackHandler()\n",
    "\n",
    "from langchain_openai import OpenAI\n",
    "llm = OpenAI(temperature=0, callbacks=[pretty_callback])\n",
    "\n",
    "\n",
    "from langchain.chains.api import open_meteo_docs\n",
    "from langchain.chains import APIChain\n",
    "chain = APIChain.from_llm_and_api_docs(llm, open_meteo_docs.OPEN_METEO_DOCS, limit_to_domains=None)\n",
    "\n",
    "chain.run('What is the weather like right now in London in degrees Celcius?')"
   ]
  }
 ],
 "metadata": {
  "kernelspec": {
   "display_name": "london-devops-VW7lFx7f-py3.11",
   "language": "python",
   "name": "python3"
  },
  "language_info": {
   "codemirror_mode": {
    "name": "ipython",
    "version": 3
   },
   "file_extension": ".py",
   "mimetype": "text/x-python",
   "name": "python",
   "nbconvert_exporter": "python",
   "pygments_lexer": "ipython3",
   "version": "3.11.7"
  },
  "orig_nbformat": 4
 },
 "nbformat": 4,
 "nbformat_minor": 2
}
