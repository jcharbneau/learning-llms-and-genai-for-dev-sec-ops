{
 "cells": [
  {
   "cell_type": "code",
   "execution_count": 1,
   "metadata": {},
   "outputs": [
    {
     "name": "stdout",
     "output_type": "stream",
     "text": [
      "Note: you may need to restart the kernel to use updated packages.\n"
     ]
    }
   ],
   "source": [
    "%pip install -q langchain langchain-community langchain-openai"
   ]
  },
  {
   "cell_type": "code",
   "execution_count": 2,
   "metadata": {},
   "outputs": [
    {
     "name": "stdout",
     "output_type": "stream",
     "text": [
      "Note: you may need to restart the kernel to use updated packages.\n"
     ]
    },
    {
     "data": {
      "text/plain": [
       "True"
      ]
     },
     "execution_count": 2,
     "metadata": {},
     "output_type": "execute_result"
    }
   ],
   "source": [
    "%pip install -q python-dotenv\n",
    "from dotenv import load_dotenv\n",
    "load_dotenv()"
   ]
  },
  {
   "cell_type": "code",
   "execution_count": 3,
   "metadata": {},
   "outputs": [],
   "source": [
    "import yaml\n",
    "\n",
    "# https://raw.githubusercontent.com/open-meteo/open-meteo/main/openapi.yml\n",
    "with open(\"data/open-meteo.yml\") as f:\n",
    "    raw_meteo_api_spec = yaml.load(f, Loader=yaml.Loader)\n",
    "\n",
    "# https://github.com/langchain-ai/langchain/issues/2456\n",
    "# in reduce_openapi_spec\n",
    "#    servers=spec[\"servers\"],\n",
    "#            ~~~~^^^^^^^^^^^\n",
    "raw_meteo_api_spec[\"servers\"] = [{\"url\": \"https://api.open-meteo.com\"}]\n",
    "# raw_meteo_api_spec.servers[0][\"url\"] = \"https://api.foo.com\"\n",
    "# print(raw_meteo_api_spec)\n",
    "\n",
    "from langchain_community.agent_toolkits.openapi.spec import reduce_openapi_spec\n",
    "meteo_api_spec = reduce_openapi_spec(raw_meteo_api_spec)\n"
   ]
  },
  {
   "cell_type": "code",
   "execution_count": 4,
   "metadata": {},
   "outputs": [],
   "source": [
    "from _lessonshelper.pretty_print_callback_handler import PrettyPrintCallbackHandler\n",
    "pretty_callback = PrettyPrintCallbackHandler()\n",
    "\n",
    "from langchain_openai import OpenAI\n",
    "#agent_llm = OpenAI(temperature=0, callbacks=[pretty_callback])\n",
    "agent_llm = OpenAI(temperature=0)"
   ]
  },
  {
   "cell_type": "code",
   "execution_count": 5,
   "metadata": {},
   "outputs": [
    {
     "name": "stderr",
     "output_type": "stream",
     "text": [
      "/Users/patrickdebois/Library/Caches/pypoetry/virtualenvs/learning-llms-and-genai-for-dev-sec-ops--fI-1qgv-py3.11/lib/python3.11/site-packages/langchain_core/_api/deprecation.py:117: LangChainDeprecationWarning: The function `run` was deprecated in LangChain 0.1.0 and will be removed in 0.2.0. Use invoke instead.\n",
      "  warn_deprecated(\n"
     ]
    },
    {
     "name": "stdout",
     "output_type": "stream",
     "text": [
      "\n",
      "\n",
      "\u001b[1m> Entering new AgentExecutor chain...\u001b[0m\n",
      "\u001b[32;1m\u001b[1;3mAction: api_planner\n",
      "Action Input: I need to find the right API calls to get the current weather conditions in Ghent in Celsius\u001b[0m\n",
      "Observation: \u001b[36;1m\u001b[1;3m 1. GET /v1/forecast with query params for Ghent's latitude and longitude\n",
      "2. Convert temperature from Kelvin to Celsius\u001b[0m\n",
      "Thought:\u001b[32;1m\u001b[1;3m I'm ready to execute the API calls.\n",
      "Action: api_controller\n",
      "Action Input: 1. GET /v1/forecast with query params for Ghent's latitude and longitude\n",
      "2. Convert temperature from Kelvin to Celsius\u001b[0m\n",
      "\n",
      "\u001b[1m> Entering new AgentExecutor chain...\u001b[0m\n"
     ]
    }
   ],
   "source": [
    "from langchain.requests import RequestsWrapper\n",
    "from langchain_community.agent_toolkits.openapi import planner\n",
    "\n",
    "wrapper = RequestsWrapper()\n",
    "meteo_agent = planner.create_openapi_agent(\n",
    "    meteo_api_spec, requests_wrapper=wrapper, llm=agent_llm\n",
    ")\n",
    "\n",
    "user_query = \"What are the current weather conditions in Ghent expressed in Celsius?\"\n",
    "answer = meteo_agent.run(user_query)\n",
    "print(answer)"
   ]
  }
 ],
 "metadata": {
  "kernelspec": {
   "display_name": "learning-llms-and-genai-for-dev-sec-ops-Sv6v5t2W-py3.11",
   "language": "python",
   "name": "python3"
  },
  "language_info": {
   "codemirror_mode": {
    "name": "ipython",
    "version": 3
   },
   "file_extension": ".py",
   "mimetype": "text/x-python",
   "name": "python",
   "nbconvert_exporter": "python",
   "pygments_lexer": "ipython3",
   "version": "3.11.7"
  }
 },
 "nbformat": 4,
 "nbformat_minor": 2
}
