{
 "cells": [
  {
   "cell_type": "markdown",
   "metadata": {},
   "source": [
    "We're almost there:\n",
    "- We loaded the documents\n",
    "- We've split them in to relevant parts (splitters)\n",
    "- We've had the vector database calculate the embeddings and store the related parts\n",
    "\n",
    "Related Langchain example: https://python.langchain.com/docs/use_cases/question_answering/"
   ]
  },
  {
   "cell_type": "code",
   "execution_count": 1,
   "metadata": {},
   "outputs": [
    {
     "name": "stdout",
     "output_type": "stream",
     "text": [
      "Note: you may need to restart the kernel to use updated packages.\n"
     ]
    }
   ],
   "source": [
    "%pip install -q langchain langchain-openai langchain-community"
   ]
  },
  {
   "cell_type": "code",
   "execution_count": 2,
   "metadata": {},
   "outputs": [
    {
     "name": "stdout",
     "output_type": "stream",
     "text": [
      "Note: you may need to restart the kernel to use updated packages.\n"
     ]
    },
    {
     "data": {
      "text/plain": [
       "True"
      ]
     },
     "execution_count": 2,
     "metadata": {},
     "output_type": "execute_result"
    }
   ],
   "source": [
    "%pip install -q python-dotenv\n",
    "from dotenv import load_dotenv\n",
    "load_dotenv()"
   ]
  },
  {
   "cell_type": "markdown",
   "metadata": {},
   "source": [
    "We connect to the previously created vector database"
   ]
  },
  {
   "cell_type": "code",
   "execution_count": 3,
   "metadata": {},
   "outputs": [],
   "source": [
    "\n",
    "# Set the embeddings function\n",
    "from langchain_openai import OpenAIEmbeddings\n",
    "\n",
    "embeddings_model = OpenAIEmbeddings()\n",
    "\n",
    "# Create a chromadb client\n",
    "import chromadb\n",
    "\n",
    "collection_name=\"my_langchain\"\n",
    "chroma_client = chromadb.PersistentClient(path=\"./chromadb\")\n",
    "from langchain_community.vectorstores import Chroma\n",
    "vectorstore = Chroma(embedding_function=embeddings_model,client=chroma_client,collection_name=collection_name)\n"
   ]
  },
  {
   "cell_type": "markdown",
   "metadata": {},
   "source": [
    "Now this is the step we put it all together by using the RetrievalQA chain.\n",
    "This combines the vectordatabase , the prompt , the llm to return answer.\n"
   ]
  },
  {
   "cell_type": "code",
   "execution_count": 4,
   "metadata": {},
   "outputs": [],
   "source": [
    "from langchain_openai import ChatOpenAI\n",
    "\n",
    "llm = ChatOpenAI(model_name=\"gpt-3.5-turbo\", temperature=0)\n",
    "from _lessonshelper.pretty_print_callback_handler import PrettyPrintCallbackHandler\n",
    "\n",
    "pretty_print_callback = PrettyPrintCallbackHandler()\n",
    "llm.callbacks = [pretty_print_callback]\n",
    "\n",
    "from langchain.chains import RetrievalQA\n",
    "\n",
    "qa_chain = RetrievalQA.from_chain_type(\n",
    "    llm, retriever=vectorstore.as_retriever(), return_source_documents=True\n",
    ")\n"
   ]
  },
  {
   "cell_type": "markdown",
   "metadata": {},
   "source": [
    "For comparison let's first do our query through the regular llm call.\n",
    "You see it returns 4 authors of the Devops Handbook."
   ]
  },
  {
   "cell_type": "code",
   "execution_count": 5,
   "metadata": {},
   "outputs": [
    {
     "name": "stdout",
     "output_type": "stream",
     "text": [
      "[chat_model][start] - prompts : Who were the people involved in writing the devops Handbook ? If there are multiple authors return them all. Return the result as json and use the field firstname and lastname\n",
      "\n",
      "=============\n",
      "[llm][end] - generation The authors of \"The DevOps Handbook\" are Gene Kim, Jez Humble, Patrick Debois, and John Willis. Here is the information in JSON format:\n",
      "\n",
      "[\n",
      "  {\n",
      "    \"firstname\": \"Gene\",\n",
      "    \"lastname\": \"Kim\"\n",
      "  },\n",
      "  {\n",
      "    \"firstname\": \"Jez\",\n",
      "    \"lastname\": \"Humble\"\n",
      "  },\n",
      "  {\n",
      "    \"firstname\": \"Patrick\",\n",
      "    \"lastname\": \"Debois\"\n",
      "  },\n",
      "  {\n",
      "    \"firstname\": \"John\",\n",
      "    \"lastname\": \"Willis\"\n",
      "  }\n",
      "]\n",
      "AIMessage(content='The authors of \"The DevOps Handbook\" are Gene Kim, Jez Humble, Patrick Debois, and John Willis. Here is the information in JSON format:\\n\\n[\\n  {\\n    \"firstname\": \"Gene\",\\n    \"lastname\": \"Kim\"\\n  },\\n  {\\n    \"firstname\": \"Jez\",\\n    \"lastname\": \"Humble\"\\n  },\\n  {\\n    \"firstname\": \"Patrick\",\\n    \"lastname\": \"Debois\"\\n  },\\n  {\\n    \"firstname\": \"John\",\\n    \"lastname\": \"Willis\"\\n  }\\n]')\n"
     ]
    }
   ],
   "source": [
    "\n",
    "query = \"Who were the people involved in writing the devops Handbook ? If there are multiple authors return them all. Return the result as json and use the field firstname and lastname\"\n",
    "\n",
    "\n",
    "# First via the llm\n",
    "from langchain.schema import (\n",
    "    HumanMessage,\n",
    ")\n",
    "\n",
    "answer = llm.invoke([HumanMessage(content=query)])\n",
    "from pprint import pprint\n",
    "pprint(answer)\n"
   ]
  },
  {
   "cell_type": "markdown",
   "metadata": {},
   "source": [
    "Now with the retrieval chain we see it returns 5 authors. The extra one being John Allspaw who wrote the foreword."
   ]
  },
  {
   "cell_type": "code",
   "execution_count": 6,
   "metadata": {},
   "outputs": [
    {
     "name": "stdout",
     "output_type": "stream",
     "text": [
      "[chat_model][start] - prompts : Use the following pieces of context to answer the user's question. \n",
      "If you don't know the answer, just say that you don't know, don't try to make up an answer.\n",
      "----------------\n",
      "The Devops Handbook was written by the following authors: Gene Kim, Jez Humble , John Willis , Patrick Debois and John Allspaw.  \n",
      "Gene Kim is a multiple award-winning entrepreneur, the founder and former CTO of Tripwire and a researcher. He is passionate about IT operations, security and compliance, and how IT organizations successfully transform from \"good to great.\" He lives in Portland, Oregon.  \n",
      "Jez Humble is an award-winning author and researcher on software who has spent his career tinkering with code, infrastructure, and product development in organizations of varying sizes across three continents. He works at 18F, teaches at UC Berkeley, and is co-founder of DevOps Research and Assessment LLC.  \n",
      "Patrick Debois is an independent IT-consultant who is bridging the gap between projects and operations by using Agile techniques both in development, project management and system administration.  \n",
      "John Willis has worked in the IT management industry for more than 30 years. He has authored six IBM Redbooks for IBM on enterprise systems management and was the founder and chief architect at Chain Bridge Systems. He lives in Atlanta, Georgia.\n",
      "\n",
      "The first devopsdays was held in Ghent, Belgium in 2009. Since then, devopsdays events have multiplied, and if there isn’t one in your city, check out the information about organizing one yourself!\n",
      "\n",
      "The devopsdays global core team guides local organizers in hosting their own devopsdays events worldwide. Active core organizers onboard and guide events, answer questions, and maintain the website. Advisory core organizers are less involved day-to-day but weigh in on important matters and assist as needed. Emeritus core organizers are no longer involved in the core team; we thank them for their past efforts.\n",
      "\n",
      "Devopsdays is a worldwide series of technical conferences covering topics of software development, IT infrastructure operations, and the intersection between them. Each event is run by volunteers from the local area.  \n",
      "Most devopsdays events feature a combination of curated talks (see open Calls for Proposals) and self organized open space content. Topics often include automation, testing, security, and organizational culture.\n",
      "[chat_model][start] - prompts : Who were the people involved in writing the devops Handbook ? If there are multiple authors return them all. Return the result as json and use the field firstname and lastname\n",
      "\n",
      "=============\n",
      "[llm][end] - generation {\n",
      "  \"authors\": [\n",
      "    {\n",
      "      \"firstname\": \"Gene\",\n",
      "      \"lastname\": \"Kim\"\n",
      "    },\n",
      "    {\n",
      "      \"firstname\": \"Jez\",\n",
      "      \"lastname\": \"Humble\"\n",
      "    },\n",
      "    {\n",
      "      \"firstname\": \"John\",\n",
      "      \"lastname\": \"Willis\"\n",
      "    },\n",
      "    {\n",
      "      \"firstname\": \"Patrick\",\n",
      "      \"lastname\": \"Debois\"\n",
      "    },\n",
      "    {\n",
      "      \"firstname\": \"John\",\n",
      "      \"lastname\": \"Allspaw\"\n",
      "    }\n",
      "  ]\n",
      "}\n",
      "{'query': 'Who were the people involved in writing the devops Handbook ? If '\n",
      "          'there are multiple authors return them all. Return the result as '\n",
      "          'json and use the field firstname and lastname',\n",
      " 'result': '{\\n'\n",
      "           '  \"authors\": [\\n'\n",
      "           '    {\\n'\n",
      "           '      \"firstname\": \"Gene\",\\n'\n",
      "           '      \"lastname\": \"Kim\"\\n'\n",
      "           '    },\\n'\n",
      "           '    {\\n'\n",
      "           '      \"firstname\": \"Jez\",\\n'\n",
      "           '      \"lastname\": \"Humble\"\\n'\n",
      "           '    },\\n'\n",
      "           '    {\\n'\n",
      "           '      \"firstname\": \"John\",\\n'\n",
      "           '      \"lastname\": \"Willis\"\\n'\n",
      "           '    },\\n'\n",
      "           '    {\\n'\n",
      "           '      \"firstname\": \"Patrick\",\\n'\n",
      "           '      \"lastname\": \"Debois\"\\n'\n",
      "           '    },\\n'\n",
      "           '    {\\n'\n",
      "           '      \"firstname\": \"John\",\\n'\n",
      "           '      \"lastname\": \"Allspaw\"\\n'\n",
      "           '    }\\n'\n",
      "           '  ]\\n'\n",
      "           '}',\n",
      " 'source_documents': [Document(page_content='The Devops Handbook was written by the following authors: Gene Kim, Jez Humble , John Willis , Patrick Debois and John Allspaw.  \\nGene Kim is a multiple award-winning entrepreneur, the founder and former CTO of Tripwire and a researcher. He is passionate about IT operations, security and compliance, and how IT organizations successfully transform from \"good to great.\"\\x9d He lives in Portland, Oregon.  \\nJez Humble is an award-winning author and researcher on software who has spent his career tinkering with code, infrastructure, and product development in organizations of varying sizes across three continents. He works at 18F, teaches at UC Berkeley, and is co-founder of DevOps Research and Assessment LLC.  \\nPatrick Debois is an independent IT-consultant who is bridging the gap between projects and operations by using Agile techniques both in development, project management and system administration.  \\nJohn Willis has worked in the IT management industry for more than 30 years. He has authored six IBM Redbooks for IBM on enterprise systems management and was the founder and chief architect at Chain Bridge Systems. He lives in Atlanta, Georgia.', metadata={'Header 1': 'A history lesson on Devops', 'Header 2': 'Devops Handbook authors'}),\n",
      "                      Document(page_content='The first devopsdays was held in Ghent, Belgium in 2009. Since then, devopsdays events have multiplied, and if there isn’t one in your city, check out the information about organizing one yourself!', metadata={'Header 1': 'A history lesson on Devops', 'Header 2': 'Devopsdays', 'Header 3': 'History'}),\n",
      "                      Document(page_content='The devopsdays global core team guides local organizers in hosting their own devopsdays events worldwide. Active core organizers onboard and guide events, answer questions, and maintain the website. Advisory core organizers are less involved day-to-day but weigh in on important matters and assist as needed. Emeritus core organizers are no longer involved in the core team; we thank them for their past efforts.', metadata={'Header 1': 'A history lesson on Devops', 'Header 2': 'Devopsdays', 'Header 3': 'About the organization'}),\n",
      "                      Document(page_content='Devopsdays is a worldwide series of technical conferences covering topics of software development, IT infrastructure operations, and the intersection between them. Each event is run by volunteers from the local area.  \\nMost devopsdays events feature a combination of curated talks (see open Calls for Proposals) and self organized open space content. Topics often include automation, testing, security, and organizational culture.', metadata={'Header 1': 'A history lesson on Devops', 'Header 2': 'Devopsdays'})]}\n"
     ]
    }
   ],
   "source": [
    "\n",
    "# next via the llm via Retrieval Augmented Generation\n",
    "answer = qa_chain.invoke({\"query\": query})\n",
    "pprint(answer)\n"
   ]
  },
  {
   "cell_type": "markdown",
   "metadata": {},
   "source": [
    "This combination of RAG is one of the primary patterns people are using LLMs with their own data."
   ]
  }
 ],
 "metadata": {
  "kernelspec": {
   "display_name": "london-devops-VW7lFx7f-py3.11",
   "language": "python",
   "name": "python3"
  },
  "language_info": {
   "codemirror_mode": {
    "name": "ipython",
    "version": 3
   },
   "file_extension": ".py",
   "mimetype": "text/x-python",
   "name": "python",
   "nbconvert_exporter": "python",
   "pygments_lexer": "ipython3",
   "version": "3.11.7"
  },
  "orig_nbformat": 4
 },
 "nbformat": 4,
 "nbformat_minor": 2
}
