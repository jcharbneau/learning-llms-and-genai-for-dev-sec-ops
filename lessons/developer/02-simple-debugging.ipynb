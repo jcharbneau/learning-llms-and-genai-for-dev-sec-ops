{
 "cells": [
  {
   "cell_type": "markdown",
   "metadata": {},
   "source": [
    "We've seen the hello world of llm now. Next step is to understand how we can see what is going on under the hood. \n",
    "- https://python.langchain.com/docs/guides/debugging\n",
    "- https://python.langchain.com/docs/modules/chains/how_to/debugging\n",
    "\n",
    "We get ready again to use OpenAI"
   ]
  },
  {
   "cell_type": "code",
   "execution_count": 1,
   "metadata": {},
   "outputs": [
    {
     "name": "stdout",
     "output_type": "stream",
     "text": [
      "Note: you may need to restart the kernel to use updated packages.\n"
     ]
    }
   ],
   "source": [
    "%pip install -q langchain langchain-openai\n",
    "import langchain\n",
    "from langchain_openai import OpenAI"
   ]
  },
  {
   "cell_type": "code",
   "execution_count": 2,
   "metadata": {},
   "outputs": [
    {
     "name": "stdout",
     "output_type": "stream",
     "text": [
      "Note: you may need to restart the kernel to use updated packages.\n"
     ]
    },
    {
     "data": {
      "text/plain": [
       "True"
      ]
     },
     "execution_count": 2,
     "metadata": {},
     "output_type": "execute_result"
    }
   ],
   "source": [
    "%pip install -q python-dotenv\n",
    "from dotenv import load_dotenv\n",
    "load_dotenv()"
   ]
  },
  {
   "cell_type": "markdown",
   "metadata": {},
   "source": [
    "First option is to enable global debugging in Langchain"
   ]
  },
  {
   "cell_type": "code",
   "execution_count": 3,
   "metadata": {},
   "outputs": [
    {
     "name": "stdout",
     "output_type": "stream",
     "text": [
      "\u001b[32;1m\u001b[1;3m[llm/start]\u001b[0m \u001b[1m[1:llm:OpenAI] Entering LLM run with input:\n",
      "\u001b[0m{\n",
      "  \"prompts\": [\n",
      "    \"Where is Ghent ?\"\n",
      "  ]\n",
      "}\n",
      "\u001b[36;1m\u001b[1;3m[llm/end]\u001b[0m \u001b[1m[1:llm:OpenAI] [873ms] Exiting LLM run with output:\n",
      "\u001b[0m{\n",
      "  \"generations\": [\n",
      "    [\n",
      "      {\n",
      "        \"text\": \"\\n\\nGhent is a city located in the Flemish Region of Belgium. It is situated in the northwest of the country, approximately 30 kilometers (19 miles) inland from the North Sea.\",\n",
      "        \"generation_info\": {\n",
      "          \"finish_reason\": \"stop\",\n",
      "          \"logprobs\": null\n",
      "        },\n",
      "        \"type\": \"Generation\"\n",
      "      }\n",
      "    ]\n",
      "  ],\n",
      "  \"llm_output\": {\n",
      "    \"token_usage\": {\n",
      "      \"prompt_tokens\": 5,\n",
      "      \"total_tokens\": 45,\n",
      "      \"completion_tokens\": 40\n",
      "    },\n",
      "    \"model_name\": \"gpt-3.5-turbo-instruct\"\n",
      "  },\n",
      "  \"run\": null\n",
      "}\n"
     ]
    }
   ],
   "source": [
    "\n",
    "# Enable global debugging\n",
    "langchain.debug = True\n",
    "\n",
    "llm = OpenAI(temperature=0)\n",
    "llm.invoke(\"Where is Ghent ?\")\n",
    "langchain.debug = False\n"
   ]
  },
  {
   "cell_type": "markdown",
   "metadata": {},
   "source": [
    "Second one is to tell providers or objects to be more verbose"
   ]
  },
  {
   "cell_type": "code",
   "execution_count": 4,
   "metadata": {},
   "outputs": [
    {
     "data": {
      "text/plain": [
       "'\\n\\nGhent is a city located in the Flemish Region of Belgium. It is situated in the northwest part of the country, approximately 30 miles (48 kilometers) northwest of Brussels.'"
      ]
     },
     "execution_count": 4,
     "metadata": {},
     "output_type": "execute_result"
    }
   ],
   "source": [
    "\n",
    "# Set verbose flag on objects\n",
    "llm = OpenAI(verbose=True, temperature=0)\n",
    "llm.invoke(\"Where is Ghent?\")\n"
   ]
  },
  {
   "cell_type": "markdown",
   "metadata": {},
   "source": [
    "A third useful way is to use callbacks to listen into objects events. We created our own helper in these lessons to listen to events."
   ]
  },
  {
   "cell_type": "code",
   "execution_count": 5,
   "metadata": {},
   "outputs": [
    {
     "name": "stdout",
     "output_type": "stream",
     "text": [
      "\n",
      "=============\n",
      "[llm][start] - prompts: Where is Ghent?\n",
      "[llm][new_token] \n",
      "\n",
      "\n",
      "[llm][new_token] G\n",
      "[llm][new_token] h\n",
      "[llm][new_token] ent\n",
      "[llm][new_token]  is\n",
      "[llm][new_token]  a\n",
      "[llm][new_token]  city\n",
      "[llm][new_token]  located\n",
      "[llm][new_token]  in\n",
      "[llm][new_token]  the\n",
      "[llm][new_token]  Flem\n",
      "[llm][new_token] ish\n",
      "[llm][new_token]  Region\n",
      "[llm][new_token]  of\n",
      "[llm][new_token]  Belgium\n",
      "[llm][new_token] .\n",
      "[llm][new_token]  It is situated in\n",
      "[llm][new_token]  the\n",
      "[llm][new_token]  northwest\n",
      "[llm][new_token]  part\n",
      "[llm][new_token]  of\n",
      "[llm][new_token]  the\n",
      "[llm][new_token]  country\n",
      "[llm][new_token] ,\n",
      "[llm][new_token]  approximately\n",
      "[llm][new_token]  \n",
      "[llm][new_token] 30\n",
      "[llm][new_token]  miles\n",
      "[llm][new_token]  (\n",
      "[llm][new_token] 48\n",
      "[llm][new_token]  kilometers\n",
      "[llm][new_token] )\n",
      "[llm][new_token]  northwest\n",
      "[llm][new_token]  of\n",
      "[llm][new_token]  Brussels\n",
      "[llm][new_token] .\n",
      "[llm][new_token] \n",
      "\n",
      "=============\n",
      "[llm][end] - generation \n",
      "\n",
      "Ghent is a city located in the Flemish Region of Belgium. It is situated in the northwest part of the country, approximately 30 miles (48 kilometers) northwest of Brussels.\n"
     ]
    },
    {
     "data": {
      "text/plain": [
       "'\\n\\nGhent is a city located in the Flemish Region of Belgium. It is situated in the northwest part of the country, approximately 30 miles (48 kilometers) northwest of Brussels.'"
      ]
     },
     "execution_count": 5,
     "metadata": {},
     "output_type": "execute_result"
    }
   ],
   "source": [
    "# Use a callback handler\n",
    "from _lessonshelper.pretty_print_callback_handler import PrettyPrintCallbackHandler\n",
    "\n",
    "callback = PrettyPrintCallbackHandler()\n",
    "llm = OpenAI(streaming=True, temperature=0 , callbacks=[callback])\n",
    "llm.invoke(\"Where is Ghent?\")"
   ]
  }
 ],
 "metadata": {
  "kernelspec": {
   "display_name": "london-devops-VW7lFx7f-py3.11",
   "language": "python",
   "name": "python3"
  },
  "language_info": {
   "codemirror_mode": {
    "name": "ipython",
    "version": 3
   },
   "file_extension": ".py",
   "mimetype": "text/x-python",
   "name": "python",
   "nbconvert_exporter": "python",
   "pygments_lexer": "ipython3",
   "version": "3.11.7"
  },
  "orig_nbformat": 4
 },
 "nbformat": 4,
 "nbformat_minor": 2
}
