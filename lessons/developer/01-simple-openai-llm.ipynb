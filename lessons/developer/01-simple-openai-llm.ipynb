{
 "cells": [
  {
   "cell_type": "markdown",
   "metadata": {},
   "source": [
    "- We'll be using the Langchain <https://github.com/langchain-ai/langchain> for our coding.\n",
    "- We will be using Python but it also exists in a Typescript variant.\n",
    "- An alternative framework on the rise is <https://www.llamaindex.ai/>\n",
    "- These framework are a great way to track new ideas and examples through their documentation."
   ]
  },
  {
   "cell_type": "markdown",
   "metadata": {},
   "source": [
    "First step install langchain (pip the packagemanager in Python)"
   ]
  },
  {
   "cell_type": "code",
   "execution_count": 1,
   "metadata": {},
   "outputs": [
    {
     "name": "stdout",
     "output_type": "stream",
     "text": [
      "Note: you may need to restart the kernel to use updated packages.\n",
      "Note: you may need to restart the kernel to use updated packages.\n"
     ]
    }
   ],
   "source": [
    "%pip install -q langchain\n",
    "%pip install -q langchain-openai"
   ]
  },
  {
   "cell_type": "markdown",
   "metadata": {},
   "source": [
    "The frameworks allow the use of multiple different llms. Here we'll use OpenAI as an example."
   ]
  },
  {
   "cell_type": "markdown",
   "metadata": {},
   "source": [
    "Using OpenAI requires an API key `OPENAI_API_KEY` to be loaded. In python it's coming to use a from `.env` file to store these values. In VsCode python projects automatically load these vars. But below uses a library load_dotenv to load them in. In further examples we'll leave that step out."
   ]
  },
  {
   "cell_type": "code",
   "execution_count": 2,
   "metadata": {},
   "outputs": [
    {
     "name": "stdout",
     "output_type": "stream",
     "text": [
      "Note: you may need to restart the kernel to use updated packages.\n"
     ]
    },
    {
     "data": {
      "text/plain": [
       "True"
      ]
     },
     "execution_count": 2,
     "metadata": {},
     "output_type": "execute_result"
    }
   ],
   "source": [
    "%pip install -q python-dotenv\n",
    "from dotenv import load_dotenv\n",
    "load_dotenv()"
   ]
  },
  {
   "cell_type": "markdown",
   "metadata": {},
   "source": [
    "Now with the env loaded we make the simplest request by instantiating the OpenAI and asking it a question."
   ]
  },
  {
   "cell_type": "code",
   "execution_count": 3,
   "metadata": {},
   "outputs": [
    {
     "name": "stdout",
     "output_type": "stream",
     "text": [
      "\n",
      "\n",
      "Ghent is a city located in the Flemish Region of Belgium. It is situated in the northwest part of the country, approximately 30 miles (48 kilometers) northwest of Brussels. \n"
     ]
    }
   ],
   "source": [
    "from langchain_openai import OpenAI\n",
    "llm = OpenAI()\n",
    "answer = llm.invoke(\"Where is Ghent?\")\n",
    "print(answer)"
   ]
  },
  {
   "cell_type": "markdown",
   "metadata": {},
   "source": [
    "Now when we try this example a few times we'll see that the output is not consistent"
   ]
  },
  {
   "cell_type": "code",
   "execution_count": 4,
   "metadata": {},
   "outputs": [
    {
     "name": "stdout",
     "output_type": "stream",
     "text": [
      "A1:\n",
      "\n",
      "Ghent is a city in the Flemish region of Belgium. It is located in the northwest part of the country, about 56 kilometers (35 miles) northwest of Brussels. \n",
      "A2:\n",
      "\n",
      "Ghent is located in the northern region of Belgium, in the Flemish region. It is approximately 56 kilometers (35 miles) northwest of Brussels, the capital of Belgium. \n",
      "A3:\n",
      "\n",
      "Ghent is a city located in the Flemish Region of Belgium. It is situated in the northwestern part of the country, approximately 30 miles (48 kilometers) northwest of Brussels. \n",
      "A4:\n",
      "\n",
      "Ghent is a city in the Flemish region of Belgium. It is located in the northwest of the country, approximately 56 kilometers (35 miles) northwest of Brussels.\n",
      "A5:\n",
      "\n",
      "Ghent is a city located in the Flanders region of Belgium. It is situated in the northwestern part of the country, approximately 30 miles (48 kilometers) northwest of Brussels.\n"
     ]
    }
   ],
   "source": [
    "llm = OpenAI()\n",
    "for i in range(1,6):\n",
    "    answer = llm.invoke(\"Where is Ghent?\")\n",
    "    print(f\"A{i}:{answer}\")"
   ]
  },
  {
   "cell_type": "markdown",
   "metadata": {},
   "source": [
    "Now to make the result more predictable we set the `temperature` option. This is the degree of randomness we allow the model to take in it's predictions"
   ]
  },
  {
   "cell_type": "code",
   "execution_count": 5,
   "metadata": {},
   "outputs": [
    {
     "name": "stdout",
     "output_type": "stream",
     "text": [
      "A1:\n",
      "\n",
      "Ghent is a city located in the Flemish Region of Belgium. It is situated in the northwest part of the country, approximately 30 miles (48 kilometers) northwest of Brussels.\n",
      "A2:\n",
      "\n",
      "Ghent is a city located in the Flemish Region of Belgium. It is situated in the northwest part of the country, approximately 30 miles (48 kilometers) northwest of Brussels.\n",
      "A3:\n",
      "\n",
      "Ghent is a city located in the Flemish Region of Belgium. It is situated in the northwest part of the country, approximately 30 miles (48 kilometers) northwest of Brussels.\n",
      "A4:\n",
      "\n",
      "Ghent is a city located in the Flemish Region of Belgium. It is situated in the northwest part of the country, approximately 30 miles (48 kilometers) northwest of Brussels.\n",
      "A5:\n",
      "\n",
      "Ghent is a city located in the Flemish Region of Belgium. It is situated in the northwest part of the country, approximately 30 miles (48 kilometers) northwest of Brussels.\n"
     ]
    }
   ],
   "source": [
    "llm = OpenAI(temperature=0)\n",
    "for i in range(1,6):\n",
    "    answer = llm.invoke(\"Where is Ghent?\")\n",
    "    print(f\"A{i}:{answer}\")"
   ]
  },
  {
   "cell_type": "markdown",
   "metadata": {},
   "source": [
    "Some llms allow you to stream the results character by character"
   ]
  },
  {
   "cell_type": "code",
   "execution_count": 6,
   "metadata": {},
   "outputs": [
    {
     "name": "stdout",
     "output_type": "stream",
     "text": [
      "\n",
      "\n",
      "Ghent is a city located in the northwestern region of Belgium, a country in Western Europe. It is situated in the Flemish Region, which is the Dutch-speaking part of Belgium. The city is approximately 55 kilometers (34 miles) northwest of Brussels, the capital of Belgium, and about 70 kilometers (43 miles) southwest of Antwerp, another major city in the country. \n",
      "\n",
      "Ghent is also known as the \"Flower City\" due to its beautiful parks and gardens, and it is often referred to as the \"Historic Heart of Flanders\" because of its rich history and cultural heritage. The city is situated at the confluence of the Scheldt and Leie rivers, making it an important port city throughout history. \n",
      "\n",
      "In terms of its location on a global scale, Ghent is situated in the Western European Time Zone (UTC+01:00) and is located at approximately 51 degrees north latitude and 3 degrees east longitude. It is surrounded by other major European cities such as Amsterdam, Paris, and London, and is easily accessible by train or car from these locations. \n",
      "\n",
      "Ghent is also well-connected to other parts of the world through its international airport, Brussels Airport, which is located about \n"
     ]
    }
   ],
   "source": [
    "llm = OpenAI(streaming=True, temperature=0)\n",
    "answer=llm.invoke(\"Where in the world is Ghent? try to answer verbose\")\n",
    "print(answer)"
   ]
  },
  {
   "cell_type": "markdown",
   "metadata": {},
   "source": [
    "Every LLM has limits in the size of prompt (context-size) we can send.\n",
    "Therefore specific providers has a max_tokens defined. Tokens are often used to calculate the limits."
   ]
  },
  {
   "cell_type": "code",
   "execution_count": 7,
   "metadata": {},
   "outputs": [
    {
     "name": "stdout",
     "output_type": "stream",
     "text": [
      "Context Size: 4096\n",
      "Max Tokens :256\n"
     ]
    }
   ],
   "source": [
    "print(f\"Context Size: {OpenAI().max_context_size}\")\n",
    "print(f\"Max Tokens :{OpenAI().max_tokens}\")"
   ]
  }
 ],
 "metadata": {
  "kernelspec": {
   "display_name": "london-devops-VW7lFx7f-py3.11",
   "language": "python",
   "name": "python3"
  },
  "language_info": {
   "codemirror_mode": {
    "name": "ipython",
    "version": 3
   },
   "file_extension": ".py",
   "mimetype": "text/x-python",
   "name": "python",
   "nbconvert_exporter": "python",
   "pygments_lexer": "ipython3",
   "version": "3.11.7"
  },
  "orig_nbformat": 4
 },
 "nbformat": 4,
 "nbformat_minor": 2
}
