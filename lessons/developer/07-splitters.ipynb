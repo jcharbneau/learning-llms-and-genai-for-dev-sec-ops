{
 "cells": [
  {
   "cell_type": "markdown",
   "metadata": {},
   "source": [
    "When documents get long, they can have a lot of different information. Therefore to provide the right part of the document , we cut them up in smaller parts. This process is sometimes referred to as *chunking*."
   ]
  },
  {
   "cell_type": "code",
   "execution_count": 1,
   "metadata": {},
   "outputs": [
    {
     "name": "stdout",
     "output_type": "stream",
     "text": [
      "Note: you may need to restart the kernel to use updated packages.\n"
     ]
    }
   ],
   "source": [
    "%pip install -q langchain markdown"
   ]
  },
  {
   "cell_type": "code",
   "execution_count": 2,
   "metadata": {},
   "outputs": [
    {
     "name": "stdout",
     "output_type": "stream",
     "text": [
      "Note: you may need to restart the kernel to use updated packages.\n"
     ]
    },
    {
     "data": {
      "text/plain": [
       "True"
      ]
     },
     "execution_count": 2,
     "metadata": {},
     "output_type": "execute_result"
    }
   ],
   "source": [
    "%pip install -q python-dotenv\n",
    "from dotenv import load_dotenv\n",
    "load_dotenv()"
   ]
  },
  {
   "cell_type": "markdown",
   "metadata": {},
   "source": [
    "We read the same document as a file first"
   ]
  },
  {
   "cell_type": "code",
   "execution_count": 3,
   "metadata": {},
   "outputs": [],
   "source": [
    "history_raw_text = \"\"\n",
    "    # This is a long document we can split up.\n",
    "with open(\"data/history.md\") as f:\n",
    "    history_raw_text = f.read()"
   ]
  },
  {
   "cell_type": "markdown",
   "metadata": {},
   "source": [
    "When we use the generic splitter , it splits it per chunks . If useful we can make the chunks overlap too."
   ]
  },
  {
   "cell_type": "code",
   "execution_count": 4,
   "metadata": {},
   "outputs": [
    {
     "name": "stdout",
     "output_type": "stream",
     "text": [
      "[Document(page_content='# A history lesson on Devops\\n\\n## Devopsdays', metadata={'start_index': 0}),\n",
      " Document(page_content='Devopsdays is a worldwide series of technical conferences covering topics of software development,', metadata={'start_index': 45}),\n",
      " Document(page_content='IT infrastructure operations, and the intersection between them. Each event is run by volunteers', metadata={'start_index': 144}),\n",
      " Document(page_content='from the local area.', metadata={'start_index': 241}),\n",
      " Document(page_content='Most devopsdays events feature a combination of curated talks (see open Calls for Proposals) and', metadata={'start_index': 263}),\n",
      " Document(page_content='self organized open space content. Topics often include automation, testing, security, and', metadata={'start_index': 360}),\n",
      " Document(page_content='organizational culture.', metadata={'start_index': 451}),\n",
      " Document(page_content='### History', metadata={'start_index': 476}),\n",
      " Document(page_content='The first devopsdays was held in Ghent, Belgium in 2009. Since then, devopsdays events have', metadata={'start_index': 488}),\n",
      " Document(page_content='multiplied, and if there isn’t one in your city, check out the information about organizing one', metadata={'start_index': 580}),\n",
      " Document(page_content='yourself!', metadata={'start_index': 676}),\n",
      " Document(page_content='### About the organization', metadata={'start_index': 687}),\n",
      " Document(page_content='The devopsdays global core team guides local organizers in hosting their own devopsdays events', metadata={'start_index': 714}),\n",
      " Document(page_content='worldwide. Active core organizers onboard and guide events, answer questions, and maintain the', metadata={'start_index': 809}),\n",
      " Document(page_content='website. Advisory core organizers are less involved day-to-day but weigh in on important matters', metadata={'start_index': 904}),\n",
      " Document(page_content='and assist as needed. Emeritus core organizers are no longer involved in the core team; we thank', metadata={'start_index': 1001}),\n",
      " Document(page_content='them for their past efforts.', metadata={'start_index': 1098}),\n",
      " Document(page_content='## Devops Handbook authors', metadata={'start_index': 1129}),\n",
      " Document(page_content='The Devops Handbook was written by the following authors: Gene Kim, Jez Humble , John Willis ,', metadata={'start_index': 1156}),\n",
      " Document(page_content='Patrick Debois and John Allspaw.', metadata={'start_index': 1251}),\n",
      " Document(page_content='Gene Kim is a multiple award-winning entrepreneur, the founder and former CTO of Tripwire and a', metadata={'start_index': 1285}),\n",
      " Document(page_content='researcher. He is passionate about IT operations, security and compliance, and how IT organizations', metadata={'start_index': 1381}),\n",
      " Document(page_content='successfully transform from \"good to great.\"\\x9d He lives in Portland, Oregon.', metadata={'start_index': 1481}),\n",
      " Document(page_content='Jez Humble is an award-winning author and researcher on software who has spent his career tinkering', metadata={'start_index': 1558}),\n",
      " Document(page_content='with code, infrastructure, and product development in organizations of varying sizes across three', metadata={'start_index': 1658}),\n",
      " Document(page_content='continents. He works at 18F, teaches at UC Berkeley, and is co-founder of DevOps Research and', metadata={'start_index': 1756}),\n",
      " Document(page_content='Assessment LLC.', metadata={'start_index': 1850}),\n",
      " Document(page_content='Patrick Debois is an independent IT-consultant who is bridging the gap between projects and', metadata={'start_index': 1867}),\n",
      " Document(page_content='operations by using Agile techniques both in development, project management and system', metadata={'start_index': 1959}),\n",
      " Document(page_content='administration.', metadata={'start_index': 2047}),\n",
      " Document(page_content='John Willis has worked in the IT management industry for more than 30 years. He has authored six', metadata={'start_index': 2064}),\n",
      " Document(page_content='IBM Redbooks for IBM on enterprise systems management and was the founder and chief architect at', metadata={'start_index': 2161}),\n",
      " Document(page_content='Chain Bridge Systems. He lives in Atlanta, Georgia.', metadata={'start_index': 2258}),\n",
      " Document(page_content='## DevSecOps\\nAs a reaction of Devops, Security got its own name and movement.', metadata={'start_index': 2311}),\n",
      " Document(page_content='Notably it talks about Shifting Security left.', metadata={'start_index': 2389})]\n"
     ]
    }
   ],
   "source": [
    "# naive , generic chunksize splitter\n",
    "\n",
    "from langchain.text_splitter import RecursiveCharacterTextSplitter\n",
    "\n",
    "# Set a really small chunk size, just to show.\n",
    "text_splitter = RecursiveCharacterTextSplitter(\n",
    "     chunk_size=100,\n",
    "     chunk_overlap=0,\n",
    "     length_function=len,\n",
    "     add_start_index=True,\n",
    ")\n",
    "texts = text_splitter.create_documents([history_raw_text])\n",
    "\n",
    "from pprint import pprint\n",
    "pprint(texts)\n",
    "\n"
   ]
  },
  {
   "cell_type": "markdown",
   "metadata": {},
   "source": [
    "But we can get smarter by using a content format aware splitter. In this case using Markdown header to do more meaningfull splits."
   ]
  },
  {
   "cell_type": "code",
   "execution_count": 5,
   "metadata": {},
   "outputs": [
    {
     "name": "stdout",
     "output_type": "stream",
     "text": [
      "[Document(page_content='Devopsdays is a worldwide series of technical conferences covering topics of software development, IT infrastructure operations, and the intersection between them. Each event is run by volunteers from the local area.  \\nMost devopsdays events feature a combination of curated talks (see open Calls for Proposals) and self organized open space content. Topics often include automation, testing, security, and organizational culture.', metadata={'Header 1': 'A history lesson on Devops', 'Header 2': 'Devopsdays'}),\n",
      " Document(page_content='The first devopsdays was held in Ghent, Belgium in 2009. Since then, devopsdays events have multiplied, and if there isn’t one in your city, check out the information about organizing one yourself!', metadata={'Header 1': 'A history lesson on Devops', 'Header 2': 'Devopsdays', 'Header 3': 'History'}),\n",
      " Document(page_content='The devopsdays global core team guides local organizers in hosting their own devopsdays events worldwide. Active core organizers onboard and guide events, answer questions, and maintain the website. Advisory core organizers are less involved day-to-day but weigh in on important matters and assist as needed. Emeritus core organizers are no longer involved in the core team; we thank them for their past efforts.', metadata={'Header 1': 'A history lesson on Devops', 'Header 2': 'Devopsdays', 'Header 3': 'About the organization'}),\n",
      " Document(page_content='The Devops Handbook was written by the following authors: Gene Kim, Jez Humble , John Willis , Patrick Debois and John Allspaw.  \\nGene Kim is a multiple award-winning entrepreneur, the founder and former CTO of Tripwire and a researcher. He is passionate about IT operations, security and compliance, and how IT organizations successfully transform from \"good to great.\"\\x9d He lives in Portland, Oregon.  \\nJez Humble is an award-winning author and researcher on software who has spent his career tinkering with code, infrastructure, and product development in organizations of varying sizes across three continents. He works at 18F, teaches at UC Berkeley, and is co-founder of DevOps Research and Assessment LLC.  \\nPatrick Debois is an independent IT-consultant who is bridging the gap between projects and operations by using Agile techniques both in development, project management and system administration.  \\nJohn Willis has worked in the IT management industry for more than 30 years. He has authored six IBM Redbooks for IBM on enterprise systems management and was the founder and chief architect at Chain Bridge Systems. He lives in Atlanta, Georgia.', metadata={'Header 1': 'A history lesson on Devops', 'Header 2': 'Devops Handbook authors'}),\n",
      " Document(page_content='As a reaction of Devops, Security got its own name and movement.\\nNotably it talks about Shifting Security left.', metadata={'Header 1': 'A history lesson on Devops', 'Header 2': 'DevSecOps'})]\n"
     ]
    }
   ],
   "source": [
    "# Now use a document/content specific splitter\n",
    "from langchain.text_splitter import MarkdownHeaderTextSplitter\n",
    "\n",
    "headers_to_split_on = [\n",
    "    (\"#\", \"Header 1\"),\n",
    "    (\"##\", \"Header 2\"),\n",
    "    (\"###\", \"Header 3\"),\n",
    "]\n",
    "md_splitter = MarkdownHeaderTextSplitter(headers_to_split_on=headers_to_split_on)\n",
    "texts = md_splitter.split_text(history_raw_text)\n",
    "\n",
    "pprint(texts)"
   ]
  }
 ],
 "metadata": {
  "kernelspec": {
   "display_name": "london-devops-VW7lFx7f-py3.11",
   "language": "python",
   "name": "python3"
  },
  "language_info": {
   "codemirror_mode": {
    "name": "ipython",
    "version": 3
   },
   "file_extension": ".py",
   "mimetype": "text/x-python",
   "name": "python",
   "nbconvert_exporter": "python",
   "pygments_lexer": "ipython3",
   "version": "3.11.7"
  },
  "orig_nbformat": 4
 },
 "nbformat": 4,
 "nbformat_minor": 2
}
