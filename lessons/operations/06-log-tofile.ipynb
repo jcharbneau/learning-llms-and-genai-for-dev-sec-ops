{
 "cells": [
  {
   "cell_type": "markdown",
   "metadata": {},
   "source": [
    "Much like we showed the Callback for debugging , you can easily adapt it to use it to log your information."
   ]
  },
  {
   "cell_type": "code",
   "execution_count": 1,
   "metadata": {},
   "outputs": [
    {
     "name": "stdout",
     "output_type": "stream",
     "text": [
      "Note: you may need to restart the kernel to use updated packages.\n"
     ]
    }
   ],
   "source": [
    "%pip install -q loguru langchain langchain-openai"
   ]
  },
  {
   "cell_type": "code",
   "execution_count": 2,
   "metadata": {},
   "outputs": [
    {
     "name": "stdout",
     "output_type": "stream",
     "text": [
      "Note: you may need to restart the kernel to use updated packages.\n"
     ]
    },
    {
     "data": {
      "text/plain": [
       "True"
      ]
     },
     "execution_count": 2,
     "metadata": {},
     "output_type": "execute_result"
    }
   ],
   "source": [
    "%pip install -q python-dotenv\n",
    "from dotenv import load_dotenv\n",
    "load_dotenv()"
   ]
  },
  {
   "cell_type": "code",
   "execution_count": 3,
   "metadata": {},
   "outputs": [
    {
     "name": "stderr",
     "output_type": "stream",
     "text": [
      "/Users/patrickdebois/Library/Caches/pypoetry/virtualenvs/learning-llms-and-genai-for-dev-sec-ops--fI-1qgv-py3.11/lib/python3.11/site-packages/langchain_core/_api/deprecation.py:117: LangChainDeprecationWarning: The function `run` was deprecated in LangChain 0.1.0 and will be removed in 0.2.0. Use invoke instead.\n",
      "  warn_deprecated(\n"
     ]
    },
    {
     "name": "stdout",
     "output_type": "stream",
     "text": [
      "\n",
      "\n",
      "\u001b[1m> Entering new LLMChain chain...\u001b[0m\n",
      "Prompt after formatting:\n",
      "\u001b[32;1m\u001b[1;3m1 + 2 = \u001b[0m\n"
     ]
    },
    {
     "name": "stderr",
     "output_type": "stream",
     "text": [
      "\u001b[32m2024-02-13 11:21:08.925\u001b[0m | \u001b[1mINFO    \u001b[0m | \u001b[36m__main__\u001b[0m:\u001b[36m<module>\u001b[0m:\u001b[36m21\u001b[0m - \u001b[1m3\n",
      "\n",
      "# \"1\" + \"2\" = \"12\"\n",
      "\n",
      "# print(\"Hello\" + \" \" + \"World\")\n",
      "\n",
      "# num = input(\"Enter a number: \")\n",
      "\n",
      "# print(\"You entered \" + num)\n",
      "\n",
      "# The input() function always returns a string\n",
      "# This is why \"1\" + \"2\" = \"12\"\n",
      "# We can use the int() function to convert strings to integers\n",
      "# int(\"1\") + int(\"2\") = 3\n",
      "\n",
      "# num = input(\"Enter a number: \")\n",
      "\n",
      "# print(\"You entered \" + num)\n",
      "\n",
      "# int_num = int(num)\n",
      "\n",
      "# print(\"Doubled: \" + str(int_num * 2))\n",
      "\n",
      "# num = input(\"Enter a number: \")\n",
      "\n",
      "# print(\"You entered \" + num)\n",
      "\n",
      "# float_num = float(num)\n",
      "\n",
      "# print(\"Squared: \" + str(float_num ** 2))\n",
      "\n",
      "# int() - converts to integer\n",
      "# float() - converts to float\n",
      "# str() - converts to string\n",
      "\n",
      "# word = \"Hello\"\n",
      "# print(word)\n",
      "# print(word[0]) # H\n",
      "# print(word[1]) # e\n",
      "# print(word[2]) # l\n",
      "# print(word[3]) # l\n",
      "# print(word[4])\u001b[0m\n"
     ]
    },
    {
     "name": "stdout",
     "output_type": "stream",
     "text": [
      "\n",
      "\u001b[1m> Finished chain.\u001b[0m\n"
     ]
    }
   ],
   "source": [
    "# https://python.langchain.com/docs/modules/callbacks/filecallbackhandler\n",
    "from loguru import logger\n",
    "\n",
    "from langchain.callbacks import FileCallbackHandler\n",
    "from langchain.chains import LLMChain\n",
    "from langchain_openai import OpenAI\n",
    "from langchain.prompts import PromptTemplate\n",
    "\n",
    "logfile = \"output.log\"\n",
    "\n",
    "logger.add(logfile, colorize=True, enqueue=True)\n",
    "handler = FileCallbackHandler(logfile)\n",
    "\n",
    "llm = OpenAI()\n",
    "prompt = PromptTemplate.from_template(\"1 + {number} = \")\n",
    "\n",
    "# this chain will both print to stdout (because verbose=True) and write to 'output.log'\n",
    "# if verbose=False, the FileCallbackHandler will still write to 'output.log'\n",
    "chain = LLMChain(llm=llm, prompt=prompt, callbacks=[handler], verbose=True)\n",
    "answer = chain.run(number=2)\n",
    "logger.info(answer)"
   ]
  }
 ],
 "metadata": {
  "kernelspec": {
   "display_name": "london-devops-VW7lFx7f-py3.11",
   "language": "python",
   "name": "python3"
  },
  "language_info": {
   "codemirror_mode": {
    "name": "ipython",
    "version": 3
   },
   "file_extension": ".py",
   "mimetype": "text/x-python",
   "name": "python",
   "nbconvert_exporter": "python",
   "pygments_lexer": "ipython3",
   "version": "3.11.7"
  },
  "orig_nbformat": 4
 },
 "nbformat": 4,
 "nbformat_minor": 2
}
