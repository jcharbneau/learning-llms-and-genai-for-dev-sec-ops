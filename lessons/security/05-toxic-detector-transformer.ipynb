{
 "cells": [
  {
   "cell_type": "markdown",
   "metadata": {},
   "source": [
    "We checked for prompt injection first.\n",
    "Then we checked if it wasn't suggesting anything evil.\n",
    "Last example is that we use a model to check if the answer was toxic or not."
   ]
  },
  {
   "cell_type": "code",
   "execution_count": 1,
   "metadata": {},
   "outputs": [
    {
     "name": "stdout",
     "output_type": "stream",
     "text": [
      "Note: you may need to restart the kernel to use updated packages.\n"
     ]
    }
   ],
   "source": [
    "%pip install -q transformers tdqm"
   ]
  },
  {
   "cell_type": "code",
   "execution_count": 2,
   "metadata": {},
   "outputs": [
    {
     "name": "stderr",
     "output_type": "stream",
     "text": [
      "/Users/patrickdebois/Library/Caches/pypoetry/virtualenvs/learning-llms-and-genai-for-dev-sec-ops--fI-1qgv-py3.11/lib/python3.11/site-packages/tqdm/auto.py:21: TqdmWarning: IProgress not found. Please update jupyter and ipywidgets. See https://ipywidgets.readthedocs.io/en/stable/user_install.html\n",
      "  from .autonotebook import tqdm as notebook_tqdm\n",
      "tokenizer_config.json: 100%|██████████| 403/403 [00:00<00:00, 1.15MB/s]\n",
      "vocab.txt: 100%|██████████| 232k/232k [00:00<00:00, 1.22MB/s]\n",
      "tokenizer.json: 100%|██████████| 466k/466k [00:00<00:00, 1.86MB/s]\n",
      "special_tokens_map.json: 100%|██████████| 112/112 [00:00<00:00, 652kB/s]\n",
      "config.json: 100%|██████████| 704/704 [00:00<00:00, 3.43MB/s]\n",
      "pytorch_model.bin: 100%|██████████| 268M/268M [00:24<00:00, 10.9MB/s] \n"
     ]
    },
    {
     "name": "stdout",
     "output_type": "stream",
     "text": [
      "[{'label': 'toxic', 'score': 0.9579606056213379}]\n",
      "[{'label': 'non-toxic', 'score': 0.9936043620109558}]\n"
     ]
    }
   ],
   "source": [
    "\n",
    "# https://github.com/whylabs/langkit/blob/main/langkit/toxicity.py\n",
    "\n",
    "from transformers import (\n",
    "    AutoModelForSequenceClassification,\n",
    "    AutoTokenizer,\n",
    "    TextClassificationPipeline,\n",
    ")\n",
    "\n",
    "_toxicity_model_path = \"martin-ha/toxic-comment-model\"\n",
    "\n",
    "model_path = _toxicity_model_path\n",
    "_toxicity_tokenizer = AutoTokenizer.from_pretrained(model_path)\n",
    "model = AutoModelForSequenceClassification.from_pretrained(model_path)\n",
    "_toxicity_pipeline = TextClassificationPipeline(\n",
    "        model=model, tokenizer=_toxicity_tokenizer\n",
    "    )\n",
    "\n",
    "text=\"You really suck\"\n",
    "result = _toxicity_pipeline(\n",
    "        text, truncation=True, max_length=_toxicity_tokenizer.model_max_length\n",
    "    )\n",
    "print(result)\n",
    "\n",
    "\n",
    "text=\"I love you\"\n",
    "result = _toxicity_pipeline(\n",
    "        text, truncation=True, max_length=_toxicity_tokenizer.model_max_length\n",
    "    )\n",
    "print(result)"
   ]
  }
 ],
 "metadata": {
  "kernelspec": {
   "display_name": "london-devops-VW7lFx7f-py3.11",
   "language": "python",
   "name": "python3"
  },
  "language_info": {
   "codemirror_mode": {
    "name": "ipython",
    "version": 3
   },
   "file_extension": ".py",
   "mimetype": "text/x-python",
   "name": "python",
   "nbconvert_exporter": "python",
   "pygments_lexer": "ipython3",
   "version": "3.11.7"
  },
  "orig_nbformat": 4
 },
 "nbformat": 4,
 "nbformat_minor": 2
}
